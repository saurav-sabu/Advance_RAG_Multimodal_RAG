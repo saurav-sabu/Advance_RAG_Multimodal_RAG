{
  "nbformat": 4,
  "nbformat_minor": 0,
  "metadata": {
    "colab": {
      "provenance": []
    },
    "kernelspec": {
      "name": "python3",
      "display_name": "Python 3"
    },
    "language_info": {
      "name": "python"
    }
  },
  "cells": [
    {
      "cell_type": "code",
      "execution_count": 1,
      "metadata": {
        "id": "lkUyTcnI5fHS"
      },
      "outputs": [],
      "source": [
        "! pip install -q langchain-core langchain-community langchain-chroma langchain-google-genai pypdf"
      ]
    },
    {
      "cell_type": "code",
      "source": [
        "from langchain_community.document_loaders import PyPDFLoader\n",
        "from langchain_chroma import Chroma\n",
        "from langchain_google_genai import ChatGoogleGenerativeAI, GoogleGenerativeAIEmbeddings\n",
        "from langchain_text_splitters import RecursiveCharacterTextSplitter\n",
        "from langchain.retrievers.merger_retriever import MergerRetriever\n",
        "import chromadb\n",
        "\n",
        "from google.colab import userdata\n",
        "import os"
      ],
      "metadata": {
        "id": "evQ7Y6Fo65Jz"
      },
      "execution_count": 2,
      "outputs": []
    },
    {
      "cell_type": "code",
      "source": [
        "GOOGLE_API_KEY = userdata.get('GOOGLE_API_KEY')"
      ],
      "metadata": {
        "id": "RcBjJJXu7YaN"
      },
      "execution_count": 3,
      "outputs": []
    },
    {
      "cell_type": "code",
      "source": [
        "os.environ[\"GOOGLE_API_KEY\"] = GOOGLE_API_KEY"
      ],
      "metadata": {
        "id": "aLW2u5_s7fqE"
      },
      "execution_count": 4,
      "outputs": []
    },
    {
      "cell_type": "code",
      "source": [
        "document_harry = PyPDFLoader(file_path=\"/content/harry_potter_book.pdf\").load()"
      ],
      "metadata": {
        "id": "o3baB-ji8Ta4"
      },
      "execution_count": 5,
      "outputs": []
    },
    {
      "cell_type": "code",
      "source": [
        "document_summaries = PyPDFLoader(file_path=\"/content/lightning_thief.pdf\").load()"
      ],
      "metadata": {
        "id": "GGfgQMGf8Z3F"
      },
      "execution_count": 6,
      "outputs": []
    },
    {
      "cell_type": "code",
      "source": [
        "text_splitter = RecursiveCharacterTextSplitter(chunk_size=1000,chunk_overlap=200)"
      ],
      "metadata": {
        "id": "l1Q5YgWh7mbT"
      },
      "execution_count": 7,
      "outputs": []
    },
    {
      "cell_type": "code",
      "source": [
        "doc_harry = text_splitter.split_documents(document_harry)\n",
        "doc_summaries = text_splitter.split_documents(document_summaries)"
      ],
      "metadata": {
        "id": "N2GjlO2Z8grw"
      },
      "execution_count": 8,
      "outputs": []
    },
    {
      "cell_type": "code",
      "source": [
        "model = ChatGoogleGenerativeAI(model=\"gemini-2.0-flash-exp\")\n",
        "embedding = GoogleGenerativeAIEmbeddings(model=\"models/text-embedding-004\")"
      ],
      "metadata": {
        "id": "H-35ixvw8x5L"
      },
      "execution_count": 9,
      "outputs": []
    },
    {
      "cell_type": "code",
      "source": [
        "client_settings = chromadb.config.Settings(\n",
        "    is_persistent=True,\n",
        "    anonymized_telemetry=False,\n",
        ")"
      ],
      "metadata": {
        "id": "vFBqtI8sCM_l"
      },
      "execution_count": 10,
      "outputs": []
    },
    {
      "cell_type": "code",
      "source": [
        "harry_vector = Chroma.from_documents(documents=doc_harry,embedding=embedding,collection_name=\"harry\",persist_directory=\"harry_vector\",collection_metadata={\"hnsw\":\"cosine\"},client_settings=client_settings)\n",
        "summaries_vector = Chroma.from_documents(documents=doc_summaries,embedding=embedding,collection_name=\"summary\",persist_directory=\"summary_vector\",collection_metadata={\"hnsw\":\"cosine\"},client_settings=client_settings)"
      ],
      "metadata": {
        "id": "soSfOjnz89Ct"
      },
      "execution_count": 11,
      "outputs": []
    },
    {
      "cell_type": "code",
      "source": [
        "harry_retriever = harry_vector.as_retriever(search_type=\"mmr\",search_kwargs={\"k\":2,\"include_metadata\":True})\n",
        "summaries_retriever = summaries_vector.as_retriever(search_type=\"mmr\",search_kwargs={\"k\":2,\"include_metadata\":True})"
      ],
      "metadata": {
        "id": "clOQsohE-EBo"
      },
      "execution_count": 12,
      "outputs": []
    },
    {
      "cell_type": "code",
      "source": [
        "lotr = MergerRetriever(retrievers=[harry_retriever,summaries_retriever])"
      ],
      "metadata": {
        "id": "d2PzYs2a-oOK"
      },
      "execution_count": 13,
      "outputs": []
    },
    {
      "cell_type": "code",
      "source": [
        "for chunks in lotr.get_relevant_documents(\"Who is harry potter\"):\n",
        "  print(chunks.page_content)"
      ],
      "metadata": {
        "colab": {
          "base_uri": "https://localhost:8080/"
        },
        "id": "mDv0OOpF-0Lo",
        "outputId": "e6a419ee-e811-4321-a064-b101b418f028"
      },
      "execution_count": 14,
      "outputs": [
        {
          "output_type": "stream",
          "name": "stderr",
          "text": [
            "<ipython-input-14-5c4fbf03a3bc>:1: LangChainDeprecationWarning: The method `BaseRetriever.get_relevant_documents` was deprecated in langchain-core 0.1.46 and will be removed in 1.0. Use :meth:`~invoke` instead.\n",
            "  for chunks in lotr.get_relevant_documents(\"Who is harry potter\"):\n"
          ]
        },
        {
          "output_type": "stream",
          "name": "stdout",
          "text": [
            "© OCT 2017 | IRE Journals | Volume 1 Issue 4 | ISSN: 2456-8880 \n",
            " \n",
            "IRE 1700079          ICONIC RESEARCH AND ENGINEERING JOURNALS 71 \n",
            "support system of friends that Voldemort can never \n",
            "hope to match. \n",
            " \n",
            "Harry's first contact with the Wizarding world is \n",
            "through a half giant, Rebus Hagrid, keeper of \n",
            "grounds and keys at Hogwarts. Hagrid reveals some \n",
            "of Harry's history. Harry survived with only a \n",
            "lightning shaped scar on his forehead as a memento \n",
            "of the attack and Voldemort reign of terror, Harry has \n",
            "become a living legend in the Wizarding world. \n",
            "Wizards represent all that the true Muggles most \n",
            "fears: The are plainly out casts and comfortable with \n",
            "being so not hing is more unnerving to the truly \n",
            "conventional than the unashamed misfit. Harry's \n",
            "eleventh birthday a series of very bizarre events lead \n",
            "to the discovery of Harry's true identity, he's a wizard \n",
            " \n",
            "IV. CONCLUSION \n",
            "J. K. Rowling transformed the lives of a generation \n",
            "with her magical Harry Potter book but now the author\n",
            "waist down.\n",
            "“Who are you?” he mused. “Well, that’s the question we all want\n",
            "answered, isn’t it? But for now, we should get you a bunk in cabin eleven.\n",
            "There will be new friends to meet. And plenty of time for lessons tomorrow.\n",
            "Besides, there will be s’mores at the campfire tonight, and I simply adore\n",
            "chocolate.”\n",
            "And then he did rise from his wheelchair. But there was something odd\n",
            "about the way he did it. His blanket fell away from his legs, but the legs\n",
            "didn’t move. His waist kept getting longer, rising above his belt. At first, I\n",
            "thought he was wearing very long, white velvet underwear, but as he kept\n",
            "rising out of the chair, taller than any man, I realized that the velvet\n",
            "underwear wasn’t underwear; it was the front of an animal, muscle and sinew\n",
            "under coarse white fur. And the wheelchair wasn’t a chair. It was some kind\n",
            "of container, an enormous box on wheels, and it must’ve been magic, because\n",
            "there’s no way it could’ve held all of him. A leg came out, long and knobby-\n",
            "(Rowing HPPS 5) \n",
            " \n",
            "Harry Potter has never played a sport while flying on \n",
            "a broomstick. He’s never worn a cloak of invisibility, \n",
            "befriended a giant or helped batch a dragon. All \n",
            "Harry knows is a miserable son, Dudley. Harry's \n",
            "room is a tiny cupboard under the stairs, and he hasn't \n",
            "had a birthday party in ten years. But all that is about \n",
            "to change when a mysterious letter arrives by owl \n",
            "messenger: a letter with an invitation to a wonderful \n",
            "place he never dreamed existed. There he finds not \n",
            "only friends, aerial sports, and magic around every \n",
            "corner, but a great destiny that's b een waiting for \n",
            "him... Harry can survive the encounter. \n",
            " \n",
            "In the book, Rowling introduces an electric cast of \n",
            "characters. the first character to be introduced is \n",
            "Vernon Dursley, Harry's uncle. Most of the actions \n",
            "centre on the eponymous hero Harry Potter, an  \n",
            "orphan who escapes his miserable childhood with the \n",
            "Dursley family. Rowling imagined him as a\n",
            "ACKNOWLEDGMENTS\n",
            "W\n",
            "ithout the assistance of numerous valiant helpers, I would have been\n",
            "slain by monsters many times over as I endeavored to bring this story to print.\n",
            "Thanks to my elder son, Haley Michael, who heard the story first; my\n",
            "younger son, Patrick John, who at the age of six is the levelheaded one in the\n",
            "family; and my wife, Becky, who puts up with my many long hours at Camp\n",
            "Half-Blood. Thanks also to my cadre of middle-school beta testers: Travis\n",
            "Stoll, clever and quick as Hermes; C. C. Kellogg, beloved as Athena; Allison\n",
            "Bauer, clear-eyed as Artemis the Huntress; and Mrs. Margaret Floyd, the\n",
            "wise and kindly seer of middle-school English. My appreciation also to\n",
            "Professor Egbert J. Bakker, classicist extraordinaire; Nancy Gallt, agent\n",
            "summa cum laude\n",
            "; Jonathan Burnham, Jennifer Besser, and Sarah Hughes for\n",
            "believing in Percy.\n"
          ]
        }
      ]
    },
    {
      "cell_type": "code",
      "source": [
        "for chunks in lotr.get_relevant_documents(\"Who wrote percy Jackson\"):\n",
        "  print(chunks.page_content)"
      ],
      "metadata": {
        "colab": {
          "base_uri": "https://localhost:8080/"
        },
        "id": "Mdv8XsJ7-9Hh",
        "outputId": "f95ec332-e57d-404d-9a2d-1cb1e71b6ecd"
      },
      "execution_count": 15,
      "outputs": [
        {
          "output_type": "stream",
          "name": "stdout",
          "text": [
            "and Lumos. The novels chronicle the life of a young wizard \n",
            "Harry Potter, and his friends Hermione Granger and Ron \n",
            "Weasley, all of whom are students at Hogwarts  School of \n",
            "witchcraft and wizardry. When the first novel of the series, \n",
            "Harry Potter and the Philosopher’s Stone, the main story \n",
            "are concerns Harry’s struggle against Lord Voldemort a \n",
            "dark wizard who intends to become immortal overthrow the \n",
            "wizard governing body known as the Ministry of magic and \n",
            "reference term that me ans non -magical people. The \n",
            "environment Rowling created is intimately connected to \n",
            "reality. \n",
            " \n",
            "Index Terms: CEMP, Environmental Risk, Impact factors, \n",
            "Risk Assessment. \n",
            " \n",
            "I. INTRODUCTION \n",
            " \n",
            "Joanne Rowling, pen names J. K. Rowling and \n",
            "Robert Galbrath is a British Novelist best known as \n",
            "the author of the Harry Potter fantasy series. she was \n",
            "born 31 July 1965, in Yate Gloucestershire England. \n",
            "Rowling was working as a researcher and bilingual \n",
            "secretary for Amnesty International when she\n",
            "About the Author\n",
            "RICK RIORDAN\n",
            " is the author of the \n",
            "New York Times\n",
            " #1 best-selling Percy\n",
            "Jackson and the Olympians series—Book One: \n",
            "The Lightning Thief\n",
            "; Book\n",
            "Two: \n",
            "The Sea of Monsters\n",
            "; Book Three: \n",
            "The Titan’s Curse\n",
            "; Book Four: \n",
            "The\n",
            "Battle of the Labyrinth\n",
            "; and Book Five: \n",
            "The Last Olympian\n",
            ". He also penned\n",
            "the New York Times #1 best-selling \n",
            "The Lost Hero\n",
            ", \n",
            "The Son of Neptune\n",
            ", \n",
            "The\n",
            "Mark of Athena\n",
            ", and \n",
            "The House of Hades\n",
            ", the first four books in his Heroes\n",
            "of Olympus series. The three books in his Kane Chronicles, based on\n",
            "Egyptian mythology, \n",
            "The Red Pyramid\n",
            ", \n",
            "The Throne of Fire\n",
            ", and \n",
            "The\n",
            "Serpent’s Shadow\n",
            ", were \n",
            "New York Times\n",
            " best sellers as well. Rick lives in\n",
            "Boston, Massachusetts, with his wife and two sons. To learn more about him,\n",
            "visit his Web site at \n",
            "www.rickriordan.com.\n",
            "Wizard, in fact a famous one. His life in this magical \n",
            "world prepares him for a dramatic meeting with the \n",
            "evil sorcerer who murdered his parent. \n",
            " \n",
            "Harry Potter and the Philosopher’s Stone:  \n",
            "Harry Potter and the Philosopher's stone is a unique \n",
            "blend of fantasy novel, mystery story, school story,\n",
            "ACKNOWLEDGMENTS\n",
            "W\n",
            "ithout the assistance of numerous valiant helpers, I would have been\n",
            "slain by monsters many times over as I endeavored to bring this story to print.\n",
            "Thanks to my elder son, Haley Michael, who heard the story first; my\n",
            "younger son, Patrick John, who at the age of six is the levelheaded one in the\n",
            "family; and my wife, Becky, who puts up with my many long hours at Camp\n",
            "Half-Blood. Thanks also to my cadre of middle-school beta testers: Travis\n",
            "Stoll, clever and quick as Hermes; C. C. Kellogg, beloved as Athena; Allison\n",
            "Bauer, clear-eyed as Artemis the Huntress; and Mrs. Margaret Floyd, the\n",
            "wise and kindly seer of middle-school English. My appreciation also to\n",
            "Professor Egbert J. Bakker, classicist extraordinaire; Nancy Gallt, agent\n",
            "summa cum laude\n",
            "; Jonathan Burnham, Jennifer Besser, and Sarah Hughes for\n",
            "believing in Percy.\n"
          ]
        }
      ]
    },
    {
      "cell_type": "code",
      "source": [
        "from langchain_community.document_transformers import EmbeddingsRedundantFilter, LongContextReorder\n",
        "from langchain.retrievers import ContextualCompressionRetriever\n",
        "from langchain.retrievers.document_compressors import DocumentCompressorPipeline\n"
      ],
      "metadata": {
        "id": "6RscQ_IN_LSs"
      },
      "execution_count": 16,
      "outputs": []
    },
    {
      "cell_type": "code",
      "source": [
        "from re import search\n",
        "from itertools import compress\n",
        "filter = EmbeddingsRedundantFilter(embeddings=embedding)\n",
        "reordering = LongContextReorder()\n",
        "pipeline = DocumentCompressorPipeline(\n",
        "    transformers=[filter, reordering]\n",
        ")\n",
        "\n",
        "compression_retriever = ContextualCompressionRetriever(\n",
        "    base_compressor=pipeline, base_retriever=lotr,search_type=\"mmr\",search_kwargs={\"k\":2,\"include_metadata\":True}\n",
        ")\n"
      ],
      "metadata": {
        "id": "mYUslQZDAHph"
      },
      "execution_count": 17,
      "outputs": []
    },
    {
      "cell_type": "code",
      "source": [
        "from langchain.chains import RetrievalQA"
      ],
      "metadata": {
        "id": "4qIqL8XrAUel"
      },
      "execution_count": 18,
      "outputs": []
    },
    {
      "cell_type": "code",
      "source": [
        "qa = RetrievalQA.from_chain_type(llm=model,chain_type=\"stuff\",retriever=compression_retriever,return_source_documents=True)"
      ],
      "metadata": {
        "id": "-Q5iC3Z2Bn-r"
      },
      "execution_count": 19,
      "outputs": []
    },
    {
      "cell_type": "code",
      "source": [
        "query = \"who is harry potter?\"\n",
        "results = qa(query)\n",
        "print(results[\"result\"])"
      ],
      "metadata": {
        "colab": {
          "base_uri": "https://localhost:8080/"
        },
        "id": "deFsENIXBtzV",
        "outputId": "3b0ce9d0-abce-4e31-baaa-f1319bfbab64"
      },
      "execution_count": 20,
      "outputs": [
        {
          "output_type": "stream",
          "name": "stderr",
          "text": [
            "<ipython-input-20-a2da0259f3df>:2: LangChainDeprecationWarning: The method `Chain.__call__` was deprecated in langchain 0.1.0 and will be removed in 1.0. Use :meth:`~invoke` instead.\n",
            "  results = qa(query)\n"
          ]
        },
        {
          "output_type": "stream",
          "name": "stdout",
          "text": [
            "Harry Potter is an orphan who escapes his miserable childhood with the Dursley family. He is also a wizard.\n"
          ]
        }
      ]
    },
    {
      "cell_type": "code",
      "source": [
        "query = \"Author of harry potter\"\n",
        "results = qa(query)\n",
        "print(results[\"result\"])"
      ],
      "metadata": {
        "colab": {
          "base_uri": "https://localhost:8080/"
        },
        "id": "zBrpozwwB6VR",
        "outputId": "a4d4e9dc-7e34-432c-f3a1-4c455633005b"
      },
      "execution_count": 21,
      "outputs": [
        {
          "output_type": "stream",
          "name": "stdout",
          "text": [
            "The author of the Harry Potter series is J.K. Rowling, also known as Joanne Rowling and Robert Galbrath.\n"
          ]
        }
      ]
    },
    {
      "cell_type": "code",
      "source": [
        "query = \"Author of Percy Jackson\"\n",
        "results = qa(query)\n",
        "print(results[\"result\"])"
      ],
      "metadata": {
        "colab": {
          "base_uri": "https://localhost:8080/"
        },
        "id": "oK4JKHU2CGya",
        "outputId": "8b93e94a-7760-4ee9-d4a1-0283ee59b042"
      },
      "execution_count": 22,
      "outputs": [
        {
          "output_type": "stream",
          "name": "stdout",
          "text": [
            "Rick Riordan is the author of the Percy Jackson series.\n"
          ]
        }
      ]
    }
  ]
}