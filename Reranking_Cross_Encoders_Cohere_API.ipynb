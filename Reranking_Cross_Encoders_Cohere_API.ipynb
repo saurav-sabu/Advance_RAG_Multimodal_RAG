{
  "nbformat": 4,
  "nbformat_minor": 0,
  "metadata": {
    "colab": {
      "provenance": []
    },
    "kernelspec": {
      "name": "python3",
      "display_name": "Python 3"
    },
    "language_info": {
      "name": "python"
    }
  },
  "cells": [
    {
      "cell_type": "code",
      "execution_count": 1,
      "metadata": {
        "id": "q7Ex0bGsRHUi"
      },
      "outputs": [],
      "source": [
        "! pip install -q sentence-transformers cohere"
      ]
    },
    {
      "cell_type": "code",
      "source": [
        "from sentence_transformers import CrossEncoder"
      ],
      "metadata": {
        "id": "vd-FEpRpUHwf"
      },
      "execution_count": 2,
      "outputs": []
    },
    {
      "cell_type": "code",
      "source": [
        "cross_encoder = CrossEncoder('cross-encoder/ms-marco-MiniLM-L-6-v2')"
      ],
      "metadata": {
        "colab": {
          "base_uri": "https://localhost:8080/"
        },
        "id": "Dwi18ddRUN4Y",
        "outputId": "64ce47a9-4d01-457a-8c4c-019e96b739fc"
      },
      "execution_count": 3,
      "outputs": [
        {
          "output_type": "stream",
          "name": "stderr",
          "text": [
            "/usr/local/lib/python3.11/dist-packages/huggingface_hub/utils/_auth.py:94: UserWarning: \n",
            "The secret `HF_TOKEN` does not exist in your Colab secrets.\n",
            "To authenticate with the Hugging Face Hub, create a token in your settings tab (https://huggingface.co/settings/tokens), set it as secret in your Google Colab and restart your session.\n",
            "You will be able to reuse this secret in all of your notebooks.\n",
            "Please note that authentication is recommended but still optional to access public models or datasets.\n",
            "  warnings.warn(\n"
          ]
        }
      ]
    },
    {
      "cell_type": "code",
      "source": [
        "top_4_documents = ['Efficient keyword extraction enhances search accuracy.',\n",
        " 'Machine learning algorithms can optimize keyword extraction methods.',\n",
        " 'Understanding document structure aids in keyword extraction.',\n",
        " 'Document analysis involves extracting keywords.']"
      ],
      "metadata": {
        "id": "ZWPbHuo9U7rE"
      },
      "execution_count": 4,
      "outputs": []
    },
    {
      "cell_type": "code",
      "source": [
        "query = \"Natural language processing techniques enhance keyword extraction efficiency.\""
      ],
      "metadata": {
        "id": "4yeMW1EZVe-I"
      },
      "execution_count": 5,
      "outputs": []
    },
    {
      "cell_type": "code",
      "source": [
        "pairs = []\n",
        "for doc in top_4_documents:\n",
        "  pairs.append([query,doc])"
      ],
      "metadata": {
        "id": "HQjk74oHVkYf"
      },
      "execution_count": 6,
      "outputs": []
    },
    {
      "cell_type": "code",
      "source": [
        "pairs"
      ],
      "metadata": {
        "colab": {
          "base_uri": "https://localhost:8080/"
        },
        "id": "ssqg-TrsVpzQ",
        "outputId": "f83551ea-b240-4442-b912-093682dec424"
      },
      "execution_count": 7,
      "outputs": [
        {
          "output_type": "execute_result",
          "data": {
            "text/plain": [
              "[['Natural language processing techniques enhance keyword extraction efficiency.',\n",
              "  'Efficient keyword extraction enhances search accuracy.'],\n",
              " ['Natural language processing techniques enhance keyword extraction efficiency.',\n",
              "  'Machine learning algorithms can optimize keyword extraction methods.'],\n",
              " ['Natural language processing techniques enhance keyword extraction efficiency.',\n",
              "  'Understanding document structure aids in keyword extraction.'],\n",
              " ['Natural language processing techniques enhance keyword extraction efficiency.',\n",
              "  'Document analysis involves extracting keywords.']]"
            ]
          },
          "metadata": {},
          "execution_count": 7
        }
      ]
    },
    {
      "cell_type": "code",
      "source": [
        "scores = cross_encoder.predict(pairs)\n",
        "scores"
      ],
      "metadata": {
        "colab": {
          "base_uri": "https://localhost:8080/"
        },
        "id": "BjRqqfaLVrNg",
        "outputId": "935c566e-a324-4d32-845e-194ce40efa97"
      },
      "execution_count": 8,
      "outputs": [
        {
          "output_type": "execute_result",
          "data": {
            "text/plain": [
              "array([ 3.1378708 ,  0.84216565, -2.9193    , -2.878192  ], dtype=float32)"
            ]
          },
          "metadata": {},
          "execution_count": 8
        }
      ]
    },
    {
      "cell_type": "code",
      "source": [
        "scored_docs = zip(scores,top_4_documents)\n",
        "scored_docs"
      ],
      "metadata": {
        "colab": {
          "base_uri": "https://localhost:8080/"
        },
        "id": "1YGw8BzeVt_I",
        "outputId": "24cba9c8-0f1a-4d86-ae20-92c5735b8ab5"
      },
      "execution_count": 9,
      "outputs": [
        {
          "output_type": "execute_result",
          "data": {
            "text/plain": [
              "<zip at 0x7f70045fc180>"
            ]
          },
          "metadata": {},
          "execution_count": 9
        }
      ]
    },
    {
      "cell_type": "code",
      "source": [
        "reranked_document_cross_encoder = sorted(scored_docs,reverse=True)\n",
        "reranked_document_cross_encoder"
      ],
      "metadata": {
        "colab": {
          "base_uri": "https://localhost:8080/"
        },
        "id": "61lIKvFSVxSv",
        "outputId": "0fc4872c-d5ca-4cb7-b4ad-5f3583e1c0a1"
      },
      "execution_count": 10,
      "outputs": [
        {
          "output_type": "execute_result",
          "data": {
            "text/plain": [
              "[(3.1378708, 'Efficient keyword extraction enhances search accuracy.'),\n",
              " (0.84216565,\n",
              "  'Machine learning algorithms can optimize keyword extraction methods.'),\n",
              " (-2.878192, 'Document analysis involves extracting keywords.'),\n",
              " (-2.9193, 'Understanding document structure aids in keyword extraction.')]"
            ]
          },
          "metadata": {},
          "execution_count": 10
        }
      ]
    },
    {
      "cell_type": "markdown",
      "source": [
        "# Cohere"
      ],
      "metadata": {
        "id": "cXv7cjd2WdTb"
      }
    },
    {
      "cell_type": "code",
      "source": [
        "import cohere\n",
        "from google.colab import userdata"
      ],
      "metadata": {
        "id": "sGYsBRVRV3TY"
      },
      "execution_count": 11,
      "outputs": []
    },
    {
      "cell_type": "code",
      "source": [
        "COHERE_API = userdata.get('COHERE_API')"
      ],
      "metadata": {
        "id": "w6kGO_XCXRfB"
      },
      "execution_count": 12,
      "outputs": []
    },
    {
      "cell_type": "code",
      "source": [
        "co = cohere.Client(COHERE_API)"
      ],
      "metadata": {
        "id": "2GqGtfFhWiIQ"
      },
      "execution_count": 13,
      "outputs": []
    },
    {
      "cell_type": "code",
      "source": [
        "top_4_documents"
      ],
      "metadata": {
        "colab": {
          "base_uri": "https://localhost:8080/"
        },
        "id": "X0ViNm5dWnQv",
        "outputId": "6ecae1c2-478b-4bb0-b71c-7f6a4612e7cd"
      },
      "execution_count": 14,
      "outputs": [
        {
          "output_type": "execute_result",
          "data": {
            "text/plain": [
              "['Efficient keyword extraction enhances search accuracy.',\n",
              " 'Machine learning algorithms can optimize keyword extraction methods.',\n",
              " 'Understanding document structure aids in keyword extraction.',\n",
              " 'Document analysis involves extracting keywords.']"
            ]
          },
          "metadata": {},
          "execution_count": 14
        }
      ]
    },
    {
      "cell_type": "code",
      "source": [
        "query"
      ],
      "metadata": {
        "colab": {
          "base_uri": "https://localhost:8080/",
          "height": 36
        },
        "id": "cPmYXRNdWoil",
        "outputId": "fbf86fdc-b704-4820-e3fc-5847c3880fc6"
      },
      "execution_count": 15,
      "outputs": [
        {
          "output_type": "execute_result",
          "data": {
            "text/plain": [
              "'Natural language processing techniques enhance keyword extraction efficiency.'"
            ],
            "application/vnd.google.colaboratory.intrinsic+json": {
              "type": "string"
            }
          },
          "metadata": {},
          "execution_count": 15
        }
      ]
    },
    {
      "cell_type": "code",
      "source": [
        "response = co.rerank(\n",
        "    model=\"rerank-english-v3.0\",\n",
        "    query=\"Natural language processing techniques enhance keyword extraction efficiency.\",\n",
        "    documents=top_4_documents,\n",
        "    return_documents=True\n",
        ")"
      ],
      "metadata": {
        "id": "bcYq_-bkWpge"
      },
      "execution_count": 16,
      "outputs": []
    },
    {
      "cell_type": "code",
      "source": [
        "response"
      ],
      "metadata": {
        "colab": {
          "base_uri": "https://localhost:8080/"
        },
        "id": "76xlfXzKWzfU",
        "outputId": "29778b11-5ff6-4231-f6b5-17d829fe7d2d"
      },
      "execution_count": 17,
      "outputs": [
        {
          "output_type": "execute_result",
          "data": {
            "text/plain": [
              "RerankResponse(id='d94c863b-771f-4a9d-b454-1b178b7e0023', results=[RerankResponseResultsItem(document=RerankResponseResultsItemDocument(text='Efficient keyword extraction enhances search accuracy.'), index=0, relevance_score=0.99411184), RerankResponseResultsItem(document=RerankResponseResultsItemDocument(text='Machine learning algorithms can optimize keyword extraction methods.'), index=1, relevance_score=0.9129032), RerankResponseResultsItem(document=RerankResponseResultsItemDocument(text='Understanding document structure aids in keyword extraction.'), index=2, relevance_score=0.32885265), RerankResponseResultsItem(document=RerankResponseResultsItemDocument(text='Document analysis involves extracting keywords.'), index=3, relevance_score=0.02865267)], meta=ApiMeta(api_version=ApiMetaApiVersion(version='1', is_deprecated=None, is_experimental=None), billed_units=ApiMetaBilledUnits(images=None, input_tokens=None, output_tokens=None, search_units=1.0, classifications=None), tokens=None, warnings=None))"
            ]
          },
          "metadata": {},
          "execution_count": 17
        }
      ]
    },
    {
      "cell_type": "code",
      "source": [
        "for i in range(4):\n",
        "  print(f'text: {response.results[i].document.text} score: {response.results[i].relevance_score}')"
      ],
      "metadata": {
        "colab": {
          "base_uri": "https://localhost:8080/"
        },
        "id": "qdBgOb_dW0J-",
        "outputId": "6d6fd21a-31d2-408f-9594-121aed4c6a24"
      },
      "execution_count": 18,
      "outputs": [
        {
          "output_type": "stream",
          "name": "stdout",
          "text": [
            "text: Efficient keyword extraction enhances search accuracy. score: 0.99411184\n",
            "text: Machine learning algorithms can optimize keyword extraction methods. score: 0.9129032\n",
            "text: Understanding document structure aids in keyword extraction. score: 0.32885265\n",
            "text: Document analysis involves extracting keywords. score: 0.02865267\n"
          ]
        }
      ]
    }
  ]
}