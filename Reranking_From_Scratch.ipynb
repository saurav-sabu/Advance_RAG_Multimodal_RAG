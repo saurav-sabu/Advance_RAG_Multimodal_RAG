{
  "nbformat": 4,
  "nbformat_minor": 0,
  "metadata": {
    "colab": {
      "provenance": []
    },
    "kernelspec": {
      "name": "python3",
      "display_name": "Python 3"
    },
    "language_info": {
      "name": "python"
    }
  },
  "cells": [
    {
      "cell_type": "code",
      "execution_count": 1,
      "metadata": {
        "id": "TgnJQfT3KVK0"
      },
      "outputs": [],
      "source": [
        "! pip install -q sentence-transformers"
      ]
    },
    {
      "cell_type": "code",
      "source": [
        "from sentence_transformers import SentenceTransformer\n",
        "import numpy as np\n",
        "from sklearn.metrics.pairwise import cosine_similarity"
      ],
      "metadata": {
        "id": "tt_cpHRgNqo4"
      },
      "execution_count": 2,
      "outputs": []
    },
    {
      "cell_type": "code",
      "source": [
        "documents = [\n",
        "    \"This is a list which containing sample documents.\",\n",
        "    \"Keywords are important for keyword-based search.\",\n",
        "    \"Document analysis involves extracting keywords.\",\n",
        "    \"Keyword-based search relies on sparse embeddings.\",\n",
        "    \"Understanding document structure aids in keyword extraction.\",\n",
        "    \"Efficient keyword extraction enhances search accuracy.\",\n",
        "    \"Semantic similarity improves document retrieval performance.\",\n",
        "    \"Machine learning algorithms can optimize keyword extraction methods.\"\n",
        "]\n",
        ""
      ],
      "metadata": {
        "id": "d2v6IqUWMo3I"
      },
      "execution_count": 3,
      "outputs": []
    },
    {
      "cell_type": "code",
      "source": [
        "model_name = 'sentence-transformers/paraphrase-xlm-r-multilingual-v1'"
      ],
      "metadata": {
        "id": "ZXCdQIjPNuwQ"
      },
      "execution_count": 4,
      "outputs": []
    },
    {
      "cell_type": "code",
      "source": [
        "model = SentenceTransformer(model_name)"
      ],
      "metadata": {
        "colab": {
          "base_uri": "https://localhost:8080/"
        },
        "id": "_y6QeQymNo_X",
        "outputId": "0cb9dac4-ef12-42a6-aba4-d3bd8b750958"
      },
      "execution_count": 5,
      "outputs": [
        {
          "output_type": "stream",
          "name": "stderr",
          "text": [
            "/usr/local/lib/python3.11/dist-packages/huggingface_hub/utils/_auth.py:94: UserWarning: \n",
            "The secret `HF_TOKEN` does not exist in your Colab secrets.\n",
            "To authenticate with the Hugging Face Hub, create a token in your settings tab (https://huggingface.co/settings/tokens), set it as secret in your Google Colab and restart your session.\n",
            "You will be able to reuse this secret in all of your notebooks.\n",
            "Please note that authentication is recommended but still optional to access public models or datasets.\n",
            "  warnings.warn(\n"
          ]
        }
      ]
    },
    {
      "cell_type": "code",
      "source": [
        "len(documents)"
      ],
      "metadata": {
        "colab": {
          "base_uri": "https://localhost:8080/"
        },
        "id": "wzA2YkxoN6-O",
        "outputId": "662b9f73-29e2-4594-ca5a-10710de21022"
      },
      "execution_count": 6,
      "outputs": [
        {
          "output_type": "execute_result",
          "data": {
            "text/plain": [
              "8"
            ]
          },
          "metadata": {},
          "execution_count": 6
        }
      ]
    },
    {
      "cell_type": "code",
      "source": [
        "documents_embedding = model.encode(documents)"
      ],
      "metadata": {
        "id": "8pUImpwAN8WH"
      },
      "execution_count": 7,
      "outputs": []
    },
    {
      "cell_type": "code",
      "source": [
        "len(documents_embedding)"
      ],
      "metadata": {
        "colab": {
          "base_uri": "https://localhost:8080/"
        },
        "id": "_QJnhFbmOACM",
        "outputId": "ba6ae5cb-d728-4e4a-bc0d-c49c8f18d441"
      },
      "execution_count": 8,
      "outputs": [
        {
          "output_type": "execute_result",
          "data": {
            "text/plain": [
              "8"
            ]
          },
          "metadata": {},
          "execution_count": 8
        }
      ]
    },
    {
      "cell_type": "code",
      "source": [
        "query = \"Natural language processing techniques enhance keyword extraction efficiency.\""
      ],
      "metadata": {
        "id": "q5DMpEFCOB1C"
      },
      "execution_count": 9,
      "outputs": []
    },
    {
      "cell_type": "code",
      "source": [
        "query_embedding = model.encode(query)"
      ],
      "metadata": {
        "id": "5VFhFQynOQXE"
      },
      "execution_count": 10,
      "outputs": []
    },
    {
      "cell_type": "code",
      "source": [
        "similarities = cosine_similarity([query_embedding], documents_embedding)"
      ],
      "metadata": {
        "id": "VvtO5x1POS9H"
      },
      "execution_count": 11,
      "outputs": []
    },
    {
      "cell_type": "code",
      "source": [
        "similarities"
      ],
      "metadata": {
        "colab": {
          "base_uri": "https://localhost:8080/"
        },
        "id": "zMlg9X_AOl6E",
        "outputId": "a4a92d06-f7b1-4aff-bdff-57b4dda4834c"
      },
      "execution_count": 12,
      "outputs": [
        {
          "output_type": "execute_result",
          "data": {
            "text/plain": [
              "array([[0.16948152, 0.45802274, 0.5675694 , 0.44123292, 0.6316117 ,\n",
              "        0.75214124, 0.55035204, 0.74481654]], dtype=float32)"
            ]
          },
          "metadata": {},
          "execution_count": 12
        }
      ]
    },
    {
      "cell_type": "code",
      "source": [
        "most_similar_index = np.argmax(similarities)\n",
        "most_similar_index"
      ],
      "metadata": {
        "colab": {
          "base_uri": "https://localhost:8080/"
        },
        "id": "ygjSVu6lOnup",
        "outputId": "d107de35-4a06-4fb8-88f3-6081efaed837"
      },
      "execution_count": 13,
      "outputs": [
        {
          "output_type": "execute_result",
          "data": {
            "text/plain": [
              "5"
            ]
          },
          "metadata": {},
          "execution_count": 13
        }
      ]
    },
    {
      "cell_type": "code",
      "source": [
        "most_similar_document = documents[most_similar_index]\n",
        "most_similar_document"
      ],
      "metadata": {
        "colab": {
          "base_uri": "https://localhost:8080/",
          "height": 36
        },
        "id": "2jpLr1YeOtAQ",
        "outputId": "4ce53a62-8ba4-4601-bb75-147ec67e90f2"
      },
      "execution_count": 14,
      "outputs": [
        {
          "output_type": "execute_result",
          "data": {
            "text/plain": [
              "'Efficient keyword extraction enhances search accuracy.'"
            ],
            "application/vnd.google.colaboratory.intrinsic+json": {
              "type": "string"
            }
          },
          "metadata": {},
          "execution_count": 14
        }
      ]
    },
    {
      "cell_type": "code",
      "source": [
        "query"
      ],
      "metadata": {
        "colab": {
          "base_uri": "https://localhost:8080/",
          "height": 36
        },
        "id": "IOyUzyfsOzCM",
        "outputId": "9a95784d-2295-4a82-eb66-98e774ed0841"
      },
      "execution_count": 15,
      "outputs": [
        {
          "output_type": "execute_result",
          "data": {
            "text/plain": [
              "'Natural language processing techniques enhance keyword extraction efficiency.'"
            ],
            "application/vnd.google.colaboratory.intrinsic+json": {
              "type": "string"
            }
          },
          "metadata": {},
          "execution_count": 15
        }
      ]
    },
    {
      "cell_type": "code",
      "source": [
        "sorted_indices = np.argsort(similarities[0])[::-1]"
      ],
      "metadata": {
        "id": "QGnOH2X_O1jQ"
      },
      "execution_count": 16,
      "outputs": []
    },
    {
      "cell_type": "code",
      "source": [
        "ranked_documents = [(documents[i],similarities[0][i]) for i in sorted_indices]"
      ],
      "metadata": {
        "id": "ATimtqLsO_--"
      },
      "execution_count": 17,
      "outputs": []
    },
    {
      "cell_type": "code",
      "source": [
        "ranked_documents"
      ],
      "metadata": {
        "colab": {
          "base_uri": "https://localhost:8080/"
        },
        "id": "q5DTJ21LPKt5",
        "outputId": "3f3cc72d-46a8-404f-8ff9-62031941c786"
      },
      "execution_count": 18,
      "outputs": [
        {
          "output_type": "execute_result",
          "data": {
            "text/plain": [
              "[('Efficient keyword extraction enhances search accuracy.', 0.75214124),\n",
              " ('Machine learning algorithms can optimize keyword extraction methods.',\n",
              "  0.74481654),\n",
              " ('Understanding document structure aids in keyword extraction.', 0.6316117),\n",
              " ('Document analysis involves extracting keywords.', 0.5675694),\n",
              " ('Semantic similarity improves document retrieval performance.', 0.55035204),\n",
              " ('Keywords are important for keyword-based search.', 0.45802274),\n",
              " ('Keyword-based search relies on sparse embeddings.', 0.44123292),\n",
              " ('This is a list which containing sample documents.', 0.16948152)]"
            ]
          },
          "metadata": {},
          "execution_count": 18
        }
      ]
    }
  ]
}